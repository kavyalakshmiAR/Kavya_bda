{
  "nbformat": 4,
  "nbformat_minor": 0,
  "metadata": {
    "colab": {
      "provenance": [],
      "include_colab_link": true
    },
    "kernelspec": {
      "name": "python3",
      "display_name": "Python 3"
    },
    "language_info": {
      "name": "python"
    }
  },
  "cells": [
    {
      "cell_type": "markdown",
      "metadata": {
        "id": "view-in-github",
        "colab_type": "text"
      },
      "source": [
        "<a href=\"https://colab.research.google.com/github/kavyalakshmiAR/Kavya_bda/blob/main/Untitled2.ipynb\" target=\"_parent\"><img src=\"https://colab.research.google.com/assets/colab-badge.svg\" alt=\"Open In Colab\"/></a>"
      ]
    },
    {
      "cell_type": "code",
      "execution_count": null,
      "metadata": {
        "colab": {
          "base_uri": "https://localhost:8080/"
        },
        "id": "16U3Y6ANFS_0",
        "outputId": "454ae594-2729-400b-f52f-170703b1f6e5"
      },
      "outputs": [
        {
          "output_type": "stream",
          "name": "stdout",
          "text": [
            "Archive:  employee.zip\n",
            "  inflating: Employee.csv            \n"
          ]
        }
      ],
      "source": [
        "!unzip employee.zip"
      ]
    },
    {
      "cell_type": "code",
      "source": [
        "import multiprocessing\n",
        "import pandas as pd\n",
        "\n",
        "# Define map functions for different counts\n",
        "def map_bachelors(record):\n",
        "    return (record['Education'] == 'Bachelors', 1)\n",
        "\n",
        "def map_joining_after_2017(record):\n",
        "    return (record['JoiningYear'] > 2017, 1)\n",
        "\n",
        "def map_pune_city(record):\n",
        "    return (record['City'] == 'Pune', 1)\n",
        "\n",
        "# Define reduce functions for different counts\n",
        "def reduce_count(mapped_data):\n",
        "    total_count = sum(count for condition, count in mapped_data if condition)\n",
        "    return total_count\n",
        "\n",
        "# Main function to run the MapReduce job\n",
        "if __name__ == \"__main__\":\n",
        "    # Load the dataset (assuming it's a CSV file)\n",
        "    df = pd.read_csv('/content/Employee.csv')  # Replace with actual file path\n",
        "\n",
        "    # Convert DataFrame to list of dictionaries for parallel processing\n",
        "    records = df.to_dict(orient='records')\n",
        "\n",
        "    # Apply the Map phase (in parallel) for each count\n",
        "    with multiprocessing.Pool() as pool:\n",
        "        # Map and reduce for Bachelors degree\n",
        "        mapped_bachelors = pool.map(map_bachelors, records)\n",
        "        bachelors_count = reduce_count(mapped_bachelors)\n",
        "\n",
        "        # Map and reduce for Joining Year after 2017\n",
        "        mapped_joining = pool.map(map_joining_after_2017, records)\n",
        "        joining_after_2017_count = reduce_count(mapped_joining)\n",
        "\n",
        "        # Map and reduce for Pune City\n",
        "        mapped_pune = pool.map(map_pune_city, records)\n",
        "        pune_city_count = reduce_count(mapped_pune)\n",
        "\n",
        "    # Print the results\n",
        "    print(f\"Count of people with Bachelors degree: {bachelors_count}\")\n",
        "    print(f\"Count of people who joined after 2017: {joining_after_2017_count}\")\n",
        "    print(f\"Count of people in Pune city: {pune_city_count}\")\n"
      ],
      "metadata": {
        "colab": {
          "base_uri": "https://localhost:8080/"
        },
        "id": "zJXMHDiXFijn",
        "outputId": "7f799181-abbf-4ca2-f5dd-df4ee56d70c9"
      },
      "execution_count": null,
      "outputs": [
        {
          "output_type": "stream",
          "name": "stdout",
          "text": [
            "Count of people with Bachelors degree: 3601\n",
            "Count of people who joined after 2017: 367\n",
            "Count of people in Pune city: 1268\n"
          ]
        }
      ]
    }
  ]
}